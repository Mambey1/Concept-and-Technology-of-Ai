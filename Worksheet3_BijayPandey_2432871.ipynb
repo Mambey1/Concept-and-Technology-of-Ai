{
  "nbformat": 4,
  "nbformat_minor": 0,
  "metadata": {
    "colab": {
      "provenance": []
    },
    "kernelspec": {
      "name": "python3",
      "display_name": "Python 3"
    },
    "language_info": {
      "name": "python"
    }
  },
  "cells": [
    {
      "cell_type": "code",
      "execution_count": 2,
      "metadata": {
        "id": "X4T0zV7mi3-S"
      },
      "outputs": [],
      "source": [
        "import pandas as pd"
      ]
    },
    {
      "cell_type": "code",
      "source": [
        "import pandas as pd\n",
        "data ={\n",
        "    'Name':['Alice','Bob','Claire','David'],\n",
        "    'Age':[19,30,27,23],\n",
        "    'Score':[88,92,85,95]\n",
        "}\n",
        "df = pd.DataFrame(data)\n",
        "print(df)"
      ],
      "metadata": {
        "colab": {
          "base_uri": "https://localhost:8080/"
        },
        "id": "PQoVg-K2jAW7",
        "outputId": "699c362e-4205-4b07-9ff3-03b1e4761ee6"
      },
      "execution_count": 3,
      "outputs": [
        {
          "output_type": "stream",
          "name": "stdout",
          "text": [
            "     Name  Age  Score\n",
            "0   Alice   19     88\n",
            "1     Bob   30     92\n",
            "2  Claire   27     85\n",
            "3   David   23     95\n"
          ]
        }
      ]
    },
    {
      "cell_type": "code",
      "source": [
        "df_sorted_by_age = df .sort_values(by='Age')\n",
        "print(df_sorted_by_age)"
      ],
      "metadata": {
        "colab": {
          "base_uri": "https://localhost:8080/"
        },
        "id": "R4SjTKv8jAaX",
        "outputId": "d7c320cf-75c2-435d-d03b-f3030ca2cf91"
      },
      "execution_count": 4,
      "outputs": [
        {
          "output_type": "stream",
          "name": "stdout",
          "text": [
            "     Name  Age  Score\n",
            "0   Alice   19     88\n",
            "3   David   23     95\n",
            "2  Claire   27     85\n",
            "1     Bob   30     92\n"
          ]
        }
      ]
    },
    {
      "cell_type": "code",
      "source": [
        "sorted_by_index = df.sort_index()\n",
        "print(sorted_by_index)"
      ],
      "metadata": {
        "colab": {
          "base_uri": "https://localhost:8080/"
        },
        "id": "EtwmXtAwjAej",
        "outputId": "14dcfaf6-c6a9-47cf-f1de-5d4f6100272c"
      },
      "execution_count": 5,
      "outputs": [
        {
          "output_type": "stream",
          "name": "stdout",
          "text": [
            "     Name  Age  Score\n",
            "0   Alice   19     88\n",
            "1     Bob   30     92\n",
            "2  Claire   27     85\n",
            "3   David   23     95\n"
          ]
        }
      ]
    },
    {
      "cell_type": "code",
      "source": [
        "subset_iloc=df.iloc[1:3,0:2]\n",
        "print(\"Subset Using iloc : \")\n",
        "print(subset_iloc)"
      ],
      "metadata": {
        "colab": {
          "base_uri": "https://localhost:8080/"
        },
        "id": "NwGwlur2jAha",
        "outputId": "b69e70a6-faec-4884-a434-4b1f473d6448"
      },
      "execution_count": 6,
      "outputs": [
        {
          "output_type": "stream",
          "name": "stdout",
          "text": [
            "Subset Using iloc : \n",
            "     Name  Age\n",
            "1     Bob   30\n",
            "2  Claire   27\n"
          ]
        }
      ]
    },
    {
      "cell_type": "code",
      "source": [
        "subset_iloc=df.iloc[1:2]\n",
        "print(\"First row : \")\n",
        "print(subset_iloc)"
      ],
      "metadata": {
        "colab": {
          "base_uri": "https://localhost:8080/"
        },
        "id": "mw1hV8k3jAk5",
        "outputId": "b0cb7b6f-67cf-41a6-e1c8-a13fafe6874f"
      },
      "execution_count": 7,
      "outputs": [
        {
          "output_type": "stream",
          "name": "stdout",
          "text": [
            "First row : \n",
            "  Name  Age  Score\n",
            "1  Bob   30     92\n"
          ]
        }
      ]
    },
    {
      "cell_type": "code",
      "source": [
        "subset_loc = df.loc[df['Age']> 20 , ['Name','Score','Age']]\n",
        "print(\"Subset Using loc : \")\n",
        "print(subset_loc)"
      ],
      "metadata": {
        "colab": {
          "base_uri": "https://localhost:8080/"
        },
        "id": "jd5mSg9wmPBd",
        "outputId": "6fd75173-38ed-46dd-eb3a-47ae7082c563"
      },
      "execution_count": 8,
      "outputs": [
        {
          "output_type": "stream",
          "name": "stdout",
          "text": [
            "Subset Using loc : \n",
            "     Name  Score  Age\n",
            "1     Bob     92   30\n",
            "2  Claire     85   27\n",
            "3   David     95   23\n"
          ]
        }
      ]
    },
    {
      "cell_type": "code",
      "source": [
        "subset_loc_only_name= df[['Name','Age']]\n",
        "print(\"Subset Using loc : \")\n",
        "print(subset_loc_only_name)"
      ],
      "metadata": {
        "colab": {
          "base_uri": "https://localhost:8080/"
        },
        "id": "4_f7fsyZmPEq",
        "outputId": "051157d8-32fa-4bdc-da05-074cf68139f0"
      },
      "execution_count": 9,
      "outputs": [
        {
          "output_type": "stream",
          "name": "stdout",
          "text": [
            "Subset Using loc : \n",
            "     Name  Age\n",
            "0   Alice   19\n",
            "1     Bob   30\n",
            "2  Claire   27\n",
            "3   David   23\n"
          ]
        }
      ]
    },
    {
      "cell_type": "code",
      "source": [
        "data ={\n",
        "    'Name':['Alice','Bob','Claire','David'],\n",
        "    'Department':['HR','IT','Finance','HR'],\n",
        "    'Score':[88,92,85,95]\n",
        "}\n",
        "df = pd.DataFrame(data)\n",
        "print(df)"
      ],
      "metadata": {
        "colab": {
          "base_uri": "https://localhost:8080/"
        },
        "id": "uoGlkn3zn_Ht",
        "outputId": "5a79abe2-33d2-4188-e164-efcd98064773"
      },
      "execution_count": 10,
      "outputs": [
        {
          "output_type": "stream",
          "name": "stdout",
          "text": [
            "     Name Department  Score\n",
            "0   Alice         HR     88\n",
            "1     Bob         IT     92\n",
            "2  Claire    Finance     85\n",
            "3   David         HR     95\n"
          ]
        }
      ]
    },
    {
      "cell_type": "code",
      "source": [
        "filtered_single = df[df[\"Department\"]==\"HR\"]\n",
        "print (\"Filtered single Column :\")\n",
        "print(filtered_single)"
      ],
      "metadata": {
        "colab": {
          "base_uri": "https://localhost:8080/"
        },
        "id": "CRt_noncn_KS",
        "outputId": "84253845-9469-4798-d225-971df028fef2"
      },
      "execution_count": 11,
      "outputs": [
        {
          "output_type": "stream",
          "name": "stdout",
          "text": [
            "Filtered single Column :\n",
            "    Name Department  Score\n",
            "0  Alice         HR     88\n",
            "3  David         HR     95\n"
          ]
        }
      ]
    },
    {
      "cell_type": "code",
      "source": [
        "filtered_multiple=df[df[\"Department\"].isin([\"HR\",\"IT\"])]\n",
        "print(\"Filtered Multiple Columns :\")\n",
        "print(filtered_multiple)"
      ],
      "metadata": {
        "colab": {
          "base_uri": "https://localhost:8080/"
        },
        "id": "nx3dlBSzn_Nc",
        "outputId": "0eb0cf69-c997-4e51-dfd8-c60dd93b13f4"
      },
      "execution_count": 12,
      "outputs": [
        {
          "output_type": "stream",
          "name": "stdout",
          "text": [
            "Filtered Multiple Columns :\n",
            "    Name Department  Score\n",
            "0  Alice         HR     88\n",
            "1    Bob         IT     92\n",
            "3  David         HR     95\n"
          ]
        }
      ]
    },
    {
      "cell_type": "code",
      "source": [
        "data ={\n",
        "    'Category':['A','B','A','B','A','B'],\n",
        "    'Value':[10,15,20,25,30,35]\n",
        "}\n",
        "df = pd.DataFrame(data)\n",
        "grouped=df.groupby('Category')['Value'].mean()\n",
        "print(grouped)\n",
        "print(df)"
      ],
      "metadata": {
        "colab": {
          "base_uri": "https://localhost:8080/"
        },
        "id": "cnRsLv1AqkJn",
        "outputId": "9816c829-50f6-48ef-e00c-6b93a9d8fc5b"
      },
      "execution_count": 13,
      "outputs": [
        {
          "output_type": "stream",
          "name": "stdout",
          "text": [
            "Category\n",
            "A    20.0\n",
            "B    25.0\n",
            "Name: Value, dtype: float64\n",
            "  Category  Value\n",
            "0        A     10\n",
            "1        B     15\n",
            "2        A     20\n",
            "3        B     25\n",
            "4        A     30\n",
            "5        B     35\n"
          ]
        }
      ]
    },
    {
      "cell_type": "code",
      "source": [
        "df['Normalized']=df.groupby('Category')['Value'].transform(lambda x : x / x.sum())\n",
        "print(df)"
      ],
      "metadata": {
        "id": "VLU7SpOeqkM_",
        "colab": {
          "base_uri": "https://localhost:8080/"
        },
        "outputId": "b18c2df7-3d14-4017-8939-e72c8f3935cd"
      },
      "execution_count": 14,
      "outputs": [
        {
          "output_type": "stream",
          "name": "stdout",
          "text": [
            "  Category  Value  Normalized\n",
            "0        A     10    0.166667\n",
            "1        B     15    0.200000\n",
            "2        A     20    0.333333\n",
            "3        B     25    0.333333\n",
            "4        A     30    0.500000\n",
            "5        B     35    0.466667\n"
          ]
        }
      ]
    },
    {
      "cell_type": "code",
      "source": [
        "filtered = df.groupby('Category').filter (lambda x : x ['Value'].sum() > 60)\n",
        "print(filtered)"
      ],
      "metadata": {
        "colab": {
          "base_uri": "https://localhost:8080/"
        },
        "id": "oWk390TcsW6k",
        "outputId": "28c2c383-e884-4eb4-9cb6-95941cea928e"
      },
      "execution_count": 15,
      "outputs": [
        {
          "output_type": "stream",
          "name": "stdout",
          "text": [
            "  Category  Value  Normalized\n",
            "1        B     15    0.200000\n",
            "3        B     25    0.333333\n",
            "5        B     35    0.466667\n"
          ]
        }
      ]
    },
    {
      "cell_type": "code",
      "source": [
        "import pandas as pd\n",
        "import seaborn as sns\n",
        "import matplotlib.pyplot as plt"
      ],
      "metadata": {
        "id": "8sphrBB9tTj4"
      },
      "execution_count": 16,
      "outputs": []
    },
    {
      "cell_type": "code",
      "source": [
        "data = {'Month': ['Jan','Feb','Mar','Apr'],\n",
        "        'Sales':[200,220,250,280]}\n",
        "\n",
        "df= pd .DataFrame(data)\n",
        "        #Line plot\n",
        "df.plot(x='Month',y='Sales',kind='line',marker='o')\n",
        "#Show thw plot\n",
        "print(df)\n",
        "plt.show()\n",
        "\n",
        "\n"
      ],
      "metadata": {
        "colab": {
          "base_uri": "https://localhost:8080/",
          "height": 540
        },
        "id": "Rur9kkvptTnc",
        "outputId": "dda91efb-d0c4-4f56-bd8a-a8c3c550fcde"
      },
      "execution_count": 17,
      "outputs": [
        {
          "output_type": "stream",
          "name": "stdout",
          "text": [
            "  Month  Sales\n",
            "0   Jan    200\n",
            "1   Feb    220\n",
            "2   Mar    250\n",
            "3   Apr    280\n"
          ]
        },
        {
          "output_type": "display_data",
          "data": {
            "text/plain": [
              "<Figure size 640x480 with 1 Axes>"
            ],
            "image/png": "[encoded data removed]"
          },
          "metadata": {}
        }
      ]
    },
    {
      "cell_type": "code",
      "source": [
        "data = {\n",
        "    'Category':['A','B','C'],\n",
        "    'Value':[10,15,20]\n",
        "}\n",
        "df = pd.DataFrame(data)\n",
        "df.plot(x='Category',y='Value',kind='bar',title = 'Category Comparison ',color='skyblue')\n",
        "plt.show()"
      ],
      "metadata": {
        "colab": {
          "base_uri": "https://localhost:8080/",
          "height": 467
        },
        "id": "9iBfuIbHvGH-",
        "outputId": "0dc97c3d-aa5e-4a49-99ea-60a0b4e790c0"
      },
      "execution_count": 18,
      "outputs": [
        {
          "output_type": "display_data",
          "data": {
            "text/plain": [
              "<Figure size 640x480 with 1 Axes>"
            ],
            "image/png": "[encoded data removed]"
          },
          "metadata": {}
        }
      ]
    },
    {
      "cell_type": "code",
      "source": [
        "data = {\n",
        "    'Score': [50,60,70,75,80,85,90,95,100]}\n",
        "df=pd.DataFrame (data)\n",
        "df['Score'].plot(kind='hist',bins=3,color='orange')\n",
        "plt.show()"
      ],
      "metadata": {
        "colab": {
          "base_uri": "https://localhost:8080/",
          "height": 430
        },
        "id": "OEoKFEvOvGLj",
        "outputId": "4d782d91-233b-42f5-9901-89668d529bfd"
      },
      "execution_count": 19,
      "outputs": [
        {
          "output_type": "display_data",
          "data": {
            "text/plain": [
              "<Figure size 640x480 with 1 Axes>"
            ],
            "image/png": "[encoded data removed]"
          },
          "metadata": {}
        }
      ]
    },
    {
      "cell_type": "markdown",
      "source": [
        "1. Load the provided dataset and import in pandas DataFrame."
      ],
      "metadata": {
        "id": "xaadhEe0t5am"
      }
    },
    {
      "cell_type": "code",
      "source": [
        "import pandas as pd\n",
        "df=pd.read_csv('/content/drive/MyDrive/Concept and technologies of Ai/Datasets/Titanic-Dataset.csv')\n",
        "df.info()\n"
      ],
      "metadata": {
        "colab": {
          "base_uri": "https://localhost:8080/"
        },
        "id": "7Mg6d_myt7mA",
        "outputId": "7e576c41-2ab0-4948-ed18-3ded2bb1ba2d"
      },
      "execution_count": 20,
      "outputs": [
        {
          "output_type": "stream",
          "name": "stdout",
          "text": [
            "<class 'pandas.core.frame.DataFrame'>\n",
            "RangeIndex: 891 entries, 0 to 890\n",
            "Data columns (total 12 columns):\n",
            " #   Column       Non-Null Count  Dtype  \n",
            "---  ------       --------------  -----  \n",
            " 0   PassengerId  891 non-null    int64  \n",
            " 1   Survived     891 non-null    int64  \n",
            " 2   Pclass       891 non-null    int64  \n",
            " 3   Name         891 non-null    object \n",
            " 4   Sex          891 non-null    object \n",
            " 5   Age          714 non-null    float64\n",
            " 6   SibSp        891 non-null    int64  \n",
            " 7   Parch        891 non-null    int64  \n",
            " 8   Ticket       891 non-null    object \n",
            " 9   Fare         891 non-null    float64\n",
            " 10  Cabin        204 non-null    object \n",
            " 11  Embarked     889 non-null    object \n",
            "dtypes: float64(2), int64(5), object(5)\n",
            "memory usage: 83.7+ KB\n"
          ]
        }
      ]
    },
    {
      "cell_type": "code",
      "source": [
        "from google.colab import drive\n",
        "drive.mount('/content/drive')"
      ],
      "metadata": {
        "id": "ZuNEZ0zAv-ED",
        "colab": {
          "base_uri": "https://localhost:8080/"
        },
        "outputId": "3128e5d8-b28f-491b-fc03-e3657fb10e5d"
      },
      "execution_count": 21,
      "outputs": [
        {
          "output_type": "stream",
          "name": "stdout",
          "text": [
            "Drive already mounted at /content/drive; to attempt to forcibly remount, call drive.mount(\"/content/drive\", force_remount=True).\n"
          ]
        }
      ]
    },
    {
      "cell_type": "code",
      "source": [
        "fare=df['Fare']\n",
        "print(fare.head())"
      ],
      "metadata": {
        "id": "Eig0lXqMt9mg",
        "colab": {
          "base_uri": "https://localhost:8080/"
        },
        "outputId": "677b269f-2224-465d-8adf-722bc3b70553"
      },
      "execution_count": 22,
      "outputs": [
        {
          "output_type": "stream",
          "name": "stdout",
          "text": [
            "0     7.2500\n",
            "1    71.2833\n",
            "2     7.9250\n",
            "3    53.1000\n",
            "4     8.0500\n",
            "Name: Fare, dtype: float64\n"
          ]
        }
      ]
    },
    {
      "cell_type": "markdown",
      "source": [
        "2. Create a DataFrame called class age that contains only the Pclass and Age columns of the Titanic\n",
        "dataset, in that order. Print the head of the result."
      ],
      "metadata": {
        "id": "1gvj3D28t_pI"
      }
    },
    {
      "cell_type": "code",
      "source": [
        "class_age=df[['Pclass','Age']]\n",
        "print(class_age.head())"
      ],
      "metadata": {
        "id": "SmR7gEU7t_Zl",
        "colab": {
          "base_uri": "https://localhost:8080/"
        },
        "outputId": "4b87a65f-61a9-48c9-fefe-27ca8ab570f1"
      },
      "execution_count": 23,
      "outputs": [
        {
          "output_type": "stream",
          "name": "stdout",
          "text": [
            "   Pclass   Age\n",
            "0       3  22.0\n",
            "1       1  38.0\n",
            "2       3  26.0\n",
            "3       1  35.0\n",
            "4       3  35.0\n"
          ]
        }
      ]
    },
    {
      "cell_type": "markdown",
      "source": [
        "3. Create a DataFrame called survived gender that contains the Survived and Sex columns of the\n",
        "Titanic dataset, in that order.Print the head of the result."
      ],
      "metadata": {
        "id": "-r0z7gMyuE7E"
      }
    },
    {
      "cell_type": "code",
      "source": [
        "survived_gender=df[['Survived','Sex']]\n",
        "print(survived_gender.head())"
      ],
      "metadata": {
        "id": "nnA04Os5uUD0",
        "colab": {
          "base_uri": "https://localhost:8080/"
        },
        "outputId": "e6fe3c88-8e22-4280-fa7a-c809bb3a345c"
      },
      "execution_count": 24,
      "outputs": [
        {
          "output_type": "stream",
          "name": "stdout",
          "text": [
            "   Survived     Sex\n",
            "0         0    male\n",
            "1         1  female\n",
            "2         1  female\n",
            "3         1  female\n",
            "4         0    male\n"
          ]
        }
      ]
    },
    {
      "cell_type": "markdown",
      "source": [
        "2.1. Filter the Titanic dataset for cases where the passenger’s fare is greater than 100, assigning it\n",
        "to fare gt 100.View the printed result."
      ],
      "metadata": {
        "id": "0oT1dHy-uV9y"
      }
    },
    {
      "cell_type": "code",
      "source": [
        "passanger_Fare_gt=df[df['Fare']>100]\n",
        "print(passanger_Fare_gt)\n"
      ],
      "metadata": {
        "id": "mdX5hCUxuXmM",
        "colab": {
          "base_uri": "https://localhost:8080/"
        },
        "outputId": "9eb9d3cb-cade-46eb-e82d-d5190d19f303"
      },
      "execution_count": 25,
      "outputs": [
        {
          "output_type": "stream",
          "name": "stdout",
          "text": [
            "     PassengerId  Survived  Pclass  \\\n",
            "27            28         0       1   \n",
            "31            32         1       1   \n",
            "88            89         1       1   \n",
            "118          119         0       1   \n",
            "195          196         1       1   \n",
            "215          216         1       1   \n",
            "258          259         1       1   \n",
            "268          269         1       1   \n",
            "269          270         1       1   \n",
            "297          298         0       1   \n",
            "299          300         1       1   \n",
            "305          306         1       1   \n",
            "306          307         1       1   \n",
            "307          308         1       1   \n",
            "311          312         1       1   \n",
            "318          319         1       1   \n",
            "319          320         1       1   \n",
            "325          326         1       1   \n",
            "332          333         0       1   \n",
            "334          335         1       1   \n",
            "337          338         1       1   \n",
            "341          342         1       1   \n",
            "373          374         0       1   \n",
            "377          378         0       1   \n",
            "380          381         1       1   \n",
            "390          391         1       1   \n",
            "393          394         1       1   \n",
            "435          436         1       1   \n",
            "438          439         0       1   \n",
            "498          499         0       1   \n",
            "505          506         0       1   \n",
            "527          528         0       1   \n",
            "537          538         1       1   \n",
            "544          545         0       1   \n",
            "550          551         1       1   \n",
            "557          558         0       1   \n",
            "581          582         1       1   \n",
            "609          610         1       1   \n",
            "659          660         0       1   \n",
            "660          661         1       1   \n",
            "679          680         1       1   \n",
            "689          690         1       1   \n",
            "698          699         0       1   \n",
            "700          701         1       1   \n",
            "708          709         1       1   \n",
            "716          717         1       1   \n",
            "730          731         1       1   \n",
            "737          738         1       1   \n",
            "742          743         1       1   \n",
            "763          764         1       1   \n",
            "779          780         1       1   \n",
            "802          803         1       1   \n",
            "856          857         1       1   \n",
            "\n",
            "                                                  Name     Sex    Age  SibSp  \\\n",
            "27                      Fortune, Mr. Charles Alexander    male  19.00      3   \n",
            "31      Spencer, Mrs. William Augustus (Marie Eugenie)  female    NaN      1   \n",
            "88                          Fortune, Miss. Mabel Helen  female  23.00      3   \n",
            "118                           Baxter, Mr. Quigg Edmond    male  24.00      0   \n",
            "195                               Lurette, Miss. Elise  female  58.00      0   \n",
            "215                            Newell, Miss. Madeleine  female  31.00      1   \n",
            "258                                   Ward, Miss. Anna  female  35.00      0   \n",
            "268      Graham, Mrs. William Thompson (Edith Junkins)  female  58.00      0   \n",
            "269                             Bissette, Miss. Amelia  female  35.00      0   \n",
            "297                       Allison, Miss. Helen Loraine  female   2.00      1   \n",
            "299    Baxter, Mrs. James (Helene DeLaudeniere Chaput)  female  50.00      0   \n",
            "305                     Allison, Master. Hudson Trevor    male   0.92      1   \n",
            "306                            Fleming, Miss. Margaret  female    NaN      0   \n",
            "307  Penasco y Castellana, Mrs. Victor de Satode (M...  female  17.00      1   \n",
            "311                         Ryerson, Miss. Emily Borie  female  18.00      2   \n",
            "318                           Wick, Miss. Mary Natalie  female  31.00      0   \n",
            "319  Spedden, Mrs. Frederic Oakley (Margaretta Corn...  female  40.00      1   \n",
            "325                           Young, Miss. Marie Grice  female  36.00      0   \n",
            "332                          Graham, Mr. George Edward    male  38.00      0   \n",
            "334  Frauenthal, Mrs. Henry William (Clara Heinshei...  female    NaN      1   \n",
            "337                    Burns, Miss. Elizabeth Margaret  female  41.00      0   \n",
            "341                     Fortune, Miss. Alice Elizabeth  female  24.00      3   \n",
            "373                                Ringhini, Mr. Sante    male  22.00      0   \n",
            "377                          Widener, Mr. Harry Elkins    male  27.00      0   \n",
            "380                              Bidois, Miss. Rosalie  female  42.00      0   \n",
            "390                         Carter, Mr. William Ernest    male  36.00      1   \n",
            "393                             Newell, Miss. Marjorie  female  23.00      1   \n",
            "435                          Carter, Miss. Lucile Polk  female  14.00      1   \n",
            "438                                  Fortune, Mr. Mark    male  64.00      1   \n",
            "498    Allison, Mrs. Hudson J C (Bessie Waldo Daniels)  female  25.00      1   \n",
            "505         Penasco y Castellana, Mr. Victor de Satode    male  18.00      1   \n",
            "527                                 Farthing, Mr. John    male    NaN      0   \n",
            "537                                LeRoy, Miss. Bertha  female  30.00      0   \n",
            "544                         Douglas, Mr. Walter Donald    male  50.00      1   \n",
            "550                        Thayer, Mr. John Borland Jr    male  17.00      0   \n",
            "557                                Robbins, Mr. Victor    male    NaN      0   \n",
            "581  Thayer, Mrs. John Borland (Marian Longstreth M...  female  39.00      1   \n",
            "609                          Shutes, Miss. Elizabeth W  female  40.00      0   \n",
            "659                         Newell, Mr. Arthur Webster    male  58.00      0   \n",
            "660                      Frauenthal, Dr. Henry William    male  50.00      2   \n",
            "679                 Cardeza, Mr. Thomas Drake Martinez    male  36.00      0   \n",
            "689                  Madill, Miss. Georgette Alexandra  female  15.00      0   \n",
            "698                           Thayer, Mr. John Borland    male  49.00      1   \n",
            "700  Astor, Mrs. John Jacob (Madeleine Talmadge Force)  female  18.00      1   \n",
            "708                               Cleaver, Miss. Alice  female  22.00      0   \n",
            "716                      Endres, Miss. Caroline Louise  female  38.00      0   \n",
            "730                      Allen, Miss. Elisabeth Walton  female  29.00      0   \n",
            "737                             Lesurer, Mr. Gustave J    male  35.00      0   \n",
            "742              Ryerson, Miss. Susan Parker \"Suzette\"  female  21.00      2   \n",
            "763          Carter, Mrs. William Ernest (Lucile Polk)  female  36.00      1   \n",
            "779  Robert, Mrs. Edward Scott (Elisabeth Walton Mc...  female  43.00      0   \n",
            "802                Carter, Master. William Thornton II    male  11.00      1   \n",
            "856         Wick, Mrs. George Dennick (Mary Hitchcock)  female  45.00      1   \n",
            "\n",
            "     Parch    Ticket      Fare            Cabin Embarked  \n",
            "27       2     19950  263.0000      C23 C25 C27        S  \n",
            "31       0  PC 17569  146.5208              B78        C  \n",
            "88       2     19950  263.0000      C23 C25 C27        S  \n",
            "118      1  PC 17558  247.5208          B58 B60        C  \n",
            "195      0  PC 17569  146.5208              B80        C  \n",
            "215      0     35273  113.2750              D36        C  \n",
            "258      0  PC 17755  512.3292              NaN        C  \n",
            "268      1  PC 17582  153.4625             C125        S  \n",
            "269      0  PC 17760  135.6333              C99        S  \n",
            "297      2    113781  151.5500          C22 C26        S  \n",
            "299      1  PC 17558  247.5208          B58 B60        C  \n",
            "305      2    113781  151.5500          C22 C26        S  \n",
            "306      0     17421  110.8833              NaN        C  \n",
            "307      0  PC 17758  108.9000              C65        C  \n",
            "311      2  PC 17608  262.3750  B57 B59 B63 B66        C  \n",
            "318      2     36928  164.8667               C7        S  \n",
            "319      1     16966  134.5000              E34        C  \n",
            "325      0  PC 17760  135.6333              C32        C  \n",
            "332      1  PC 17582  153.4625              C91        S  \n",
            "334      0  PC 17611  133.6500              NaN        S  \n",
            "337      0     16966  134.5000              E40        C  \n",
            "341      2     19950  263.0000      C23 C25 C27        S  \n",
            "373      0  PC 17760  135.6333              NaN        C  \n",
            "377      2    113503  211.5000              C82        C  \n",
            "380      0  PC 17757  227.5250              NaN        C  \n",
            "390      2    113760  120.0000          B96 B98        S  \n",
            "393      0     35273  113.2750              D36        C  \n",
            "435      2    113760  120.0000          B96 B98        S  \n",
            "438      4     19950  263.0000      C23 C25 C27        S  \n",
            "498      2    113781  151.5500          C22 C26        S  \n",
            "505      0  PC 17758  108.9000              C65        C  \n",
            "527      0  PC 17483  221.7792              C95        S  \n",
            "537      0  PC 17761  106.4250              NaN        C  \n",
            "544      0  PC 17761  106.4250              C86        C  \n",
            "550      2     17421  110.8833              C70        C  \n",
            "557      0  PC 17757  227.5250              NaN        C  \n",
            "581      1     17421  110.8833              C68        C  \n",
            "609      0  PC 17582  153.4625             C125        S  \n",
            "659      2     35273  113.2750              D48        C  \n",
            "660      0  PC 17611  133.6500              NaN        S  \n",
            "679      1  PC 17755  512.3292      B51 B53 B55        C  \n",
            "689      1     24160  211.3375               B5        S  \n",
            "698      1     17421  110.8833              C68        C  \n",
            "700      0  PC 17757  227.5250          C62 C64        C  \n",
            "708      0    113781  151.5500              NaN        S  \n",
            "716      0  PC 17757  227.5250              C45        C  \n",
            "730      0     24160  211.3375               B5        S  \n",
            "737      0  PC 17755  512.3292             B101        C  \n",
            "742      2  PC 17608  262.3750  B57 B59 B63 B66        C  \n",
            "763      2    113760  120.0000          B96 B98        S  \n",
            "779      1     24160  211.3375               B3        S  \n",
            "802      2    113760  120.0000          B96 B98        S  \n",
            "856      1     36928  164.8667              NaN        S  \n"
          ]
        }
      ]
    },
    {
      "cell_type": "markdown",
      "source": [
        "2. Filter the Titanic dataset for cases where the passenger’s class (Pclass) is 1, assigning it to\n",
        "first class.View the printed result."
      ],
      "metadata": {
        "id": "xAIc_Y-zuZpH"
      }
    },
    {
      "cell_type": "code",
      "source": [
        "filtered_Pclass=df[df['Pclass']==1]\n",
        "print(filtered_Pclass)"
      ],
      "metadata": {
        "id": "m2HGpWfPucAD",
        "colab": {
          "base_uri": "https://localhost:8080/"
        },
        "outputId": "2456dc37-390c-4b74-89b6-f0193deba3a3"
      },
      "execution_count": 26,
      "outputs": [
        {
          "output_type": "stream",
          "name": "stdout",
          "text": [
            "     PassengerId  Survived  Pclass  \\\n",
            "1              2         1       1   \n",
            "3              4         1       1   \n",
            "6              7         0       1   \n",
            "11            12         1       1   \n",
            "23            24         1       1   \n",
            "..           ...       ...     ...   \n",
            "871          872         1       1   \n",
            "872          873         0       1   \n",
            "879          880         1       1   \n",
            "887          888         1       1   \n",
            "889          890         1       1   \n",
            "\n",
            "                                                  Name     Sex   Age  SibSp  \\\n",
            "1    Cumings, Mrs. John Bradley (Florence Briggs Th...  female  38.0      1   \n",
            "3         Futrelle, Mrs. Jacques Heath (Lily May Peel)  female  35.0      1   \n",
            "6                              McCarthy, Mr. Timothy J    male  54.0      0   \n",
            "11                            Bonnell, Miss. Elizabeth  female  58.0      0   \n",
            "23                        Sloper, Mr. William Thompson    male  28.0      0   \n",
            "..                                                 ...     ...   ...    ...   \n",
            "871   Beckwith, Mrs. Richard Leonard (Sallie Monypeny)  female  47.0      1   \n",
            "872                           Carlsson, Mr. Frans Olof    male  33.0      0   \n",
            "879      Potter, Mrs. Thomas Jr (Lily Alexenia Wilson)  female  56.0      0   \n",
            "887                       Graham, Miss. Margaret Edith  female  19.0      0   \n",
            "889                              Behr, Mr. Karl Howell    male  26.0      0   \n",
            "\n",
            "     Parch    Ticket     Fare        Cabin Embarked  \n",
            "1        0  PC 17599  71.2833          C85        C  \n",
            "3        0    113803  53.1000         C123        S  \n",
            "6        0     17463  51.8625          E46        S  \n",
            "11       0    113783  26.5500         C103        S  \n",
            "23       0    113788  35.5000           A6        S  \n",
            "..     ...       ...      ...          ...      ...  \n",
            "871      1     11751  52.5542          D35        S  \n",
            "872      0       695   5.0000  B51 B53 B55        S  \n",
            "879      1     11767  83.1583          C50        C  \n",
            "887      0    112053  30.0000          B42        S  \n",
            "889      0    111369  30.0000         C148        C  \n",
            "\n",
            "[216 rows x 12 columns]\n"
          ]
        }
      ]
    },
    {
      "cell_type": "markdown",
      "source": [
        "2.3. Filter the Titanic dataset for cases where the passenger’s age is less than 18 and the passenger\n",
        "is female (Sex is \"female\"), assigning it to female under 18. View the printed result."
      ],
      "metadata": {
        "id": "aDvCNCT8ufeV"
      }
    },
    {
      "cell_type": "code",
      "source": [
        "passangerAge=df[(df['Age']<18) & (df['Sex']=='female')]\n",
        "print(passangerAge.head())"
      ],
      "metadata": {
        "id": "xi3JJRIOufVB",
        "colab": {
          "base_uri": "https://localhost:8080/"
        },
        "outputId": "c3dd5400-620c-46fa-c86e-521469ca4ac8"
      },
      "execution_count": 27,
      "outputs": [
        {
          "output_type": "stream",
          "name": "stdout",
          "text": [
            "    PassengerId  Survived  Pclass                                  Name  \\\n",
            "9            10         1       2   Nasser, Mrs. Nicholas (Adele Achem)   \n",
            "10           11         1       3       Sandstrom, Miss. Marguerite Rut   \n",
            "14           15         0       3  Vestrom, Miss. Hulda Amanda Adolfina   \n",
            "22           23         1       3           McGowan, Miss. Anna \"Annie\"   \n",
            "24           25         0       3         Palsson, Miss. Torborg Danira   \n",
            "\n",
            "       Sex   Age  SibSp  Parch   Ticket     Fare Cabin Embarked  \n",
            "9   female  14.0      1      0   237736  30.0708   NaN        C  \n",
            "10  female   4.0      1      1  PP 9549  16.7000    G6        S  \n",
            "14  female  14.0      0      0   350406   7.8542   NaN        S  \n",
            "22  female  15.0      0      0   330923   8.0292   NaN        Q  \n",
            "24  female   8.0      3      1   349909  21.0750   NaN        S  \n"
          ]
        }
      ]
    },
    {
      "cell_type": "markdown",
      "source": [
        "1. Filter the Titanic dataset for passengers whose Embarked port is either \"C\" (Cherbourg) or \"S\"\n",
        "(Southampton), assigning the result to embarked c or s. View the printed result."
      ],
      "metadata": {
        "id": "NdBrq2ZdupUy"
      }
    },
    {
      "cell_type": "code",
      "source": [
        "embarked_c_or_s=df[(df['Embarked']=='C') | (df['Embarked']=='S')]\n",
        "print(embarked_c_or_s.head())"
      ],
      "metadata": {
        "id": "xe46xExlurVO",
        "colab": {
          "base_uri": "https://localhost:8080/"
        },
        "outputId": "ec7565bf-eb97-4414-fe01-75d402085fae"
      },
      "execution_count": 28,
      "outputs": [
        {
          "output_type": "stream",
          "name": "stdout",
          "text": [
            "   PassengerId  Survived  Pclass  \\\n",
            "0            1         0       3   \n",
            "1            2         1       1   \n",
            "2            3         1       3   \n",
            "3            4         1       1   \n",
            "4            5         0       3   \n",
            "\n",
            "                                                Name     Sex   Age  SibSp  \\\n",
            "0                            Braund, Mr. Owen Harris    male  22.0      1   \n",
            "1  Cumings, Mrs. John Bradley (Florence Briggs Th...  female  38.0      1   \n",
            "2                             Heikkinen, Miss. Laina  female  26.0      0   \n",
            "3       Futrelle, Mrs. Jacques Heath (Lily May Peel)  female  35.0      1   \n",
            "4                           Allen, Mr. William Henry    male  35.0      0   \n",
            "\n",
            "   Parch            Ticket     Fare Cabin Embarked  \n",
            "0      0         A/5 21171   7.2500   NaN        S  \n",
            "1      0          PC 17599  71.2833   C85        C  \n",
            "2      0  STON/O2. 3101282   7.9250   NaN        S  \n",
            "3      0            113803  53.1000  C123        S  \n",
            "4      0            373450   8.0500   NaN        S  \n"
          ]
        }
      ]
    },
    {
      "cell_type": "markdown",
      "source": [
        "2. Filter the Titanic dataset for passengers whose Pclass is in the list [1, 2] (indicating first\n",
        "or second class), assigning the result to first second class.View the printed result."
      ],
      "metadata": {
        "id": "otZekekMutcY"
      }
    },
    {
      "cell_type": "code",
      "source": [
        "filtered_Pclass=df[(df['Pclass'].isin([1,2]))]\n",
        "print(filtered_Pclass)"
      ],
      "metadata": {
        "id": "ZANGxnBhuuki",
        "colab": {
          "base_uri": "https://localhost:8080/"
        },
        "outputId": "24a195d3-b052-41c9-9be3-885cf97de2ad"
      },
      "execution_count": 29,
      "outputs": [
        {
          "output_type": "stream",
          "name": "stdout",
          "text": [
            "     PassengerId  Survived  Pclass  \\\n",
            "1              2         1       1   \n",
            "3              4         1       1   \n",
            "6              7         0       1   \n",
            "9             10         1       2   \n",
            "11            12         1       1   \n",
            "..           ...       ...     ...   \n",
            "880          881         1       2   \n",
            "883          884         0       2   \n",
            "886          887         0       2   \n",
            "887          888         1       1   \n",
            "889          890         1       1   \n",
            "\n",
            "                                                  Name     Sex   Age  SibSp  \\\n",
            "1    Cumings, Mrs. John Bradley (Florence Briggs Th...  female  38.0      1   \n",
            "3         Futrelle, Mrs. Jacques Heath (Lily May Peel)  female  35.0      1   \n",
            "6                              McCarthy, Mr. Timothy J    male  54.0      0   \n",
            "9                  Nasser, Mrs. Nicholas (Adele Achem)  female  14.0      1   \n",
            "11                            Bonnell, Miss. Elizabeth  female  58.0      0   \n",
            "..                                                 ...     ...   ...    ...   \n",
            "880       Shelley, Mrs. William (Imanita Parrish Hall)  female  25.0      0   \n",
            "883                      Banfield, Mr. Frederick James    male  28.0      0   \n",
            "886                              Montvila, Rev. Juozas    male  27.0      0   \n",
            "887                       Graham, Miss. Margaret Edith  female  19.0      0   \n",
            "889                              Behr, Mr. Karl Howell    male  26.0      0   \n",
            "\n",
            "     Parch            Ticket     Fare Cabin Embarked  \n",
            "1        0          PC 17599  71.2833   C85        C  \n",
            "3        0            113803  53.1000  C123        S  \n",
            "6        0             17463  51.8625   E46        S  \n",
            "9        0            237736  30.0708   NaN        C  \n",
            "11       0            113783  26.5500  C103        S  \n",
            "..     ...               ...      ...   ...      ...  \n",
            "880      1            230433  26.0000   NaN        S  \n",
            "883      0  C.A./SOTON 34068  10.5000   NaN        S  \n",
            "886      0            211536  13.0000   NaN        S  \n",
            "887      0            112053  30.0000   B42        S  \n",
            "889      0            111369  30.0000  C148        C  \n",
            "\n",
            "[400 rows x 12 columns]\n"
          ]
        }
      ]
    },
    {
      "cell_type": "markdown",
      "source": [
        "1. Add a column to the Titanic dataset, fare per year, containing the fare divided by the age of\n",
        "the passenger(i.e., Fare/Age)."
      ],
      "metadata": {
        "id": "q369kageuw-1"
      }
    },
    {
      "cell_type": "code",
      "source": [
        "df['Fare_per_year']=df['Fare']/df['Age']\n",
        "print(df.head())"
      ],
      "metadata": {
        "id": "GPjrH3Y4uxeF",
        "colab": {
          "base_uri": "https://localhost:8080/"
        },
        "outputId": "4779c2c1-c983-457f-baf2-867953def85d"
      },
      "execution_count": 30,
      "outputs": [
        {
          "output_type": "stream",
          "name": "stdout",
          "text": [
            "   PassengerId  Survived  Pclass  \\\n",
            "0            1         0       3   \n",
            "1            2         1       1   \n",
            "2            3         1       3   \n",
            "3            4         1       1   \n",
            "4            5         0       3   \n",
            "\n",
            "                                                Name     Sex   Age  SibSp  \\\n",
            "0                            Braund, Mr. Owen Harris    male  22.0      1   \n",
            "1  Cumings, Mrs. John Bradley (Florence Briggs Th...  female  38.0      1   \n",
            "2                             Heikkinen, Miss. Laina  female  26.0      0   \n",
            "3       Futrelle, Mrs. Jacques Heath (Lily May Peel)  female  35.0      1   \n",
            "4                           Allen, Mr. William Henry    male  35.0      0   \n",
            "\n",
            "   Parch            Ticket     Fare Cabin Embarked  Fare_per_year  \n",
            "0      0         A/5 21171   7.2500   NaN        S       0.329545  \n",
            "1      0          PC 17599  71.2833   C85        C       1.875876  \n",
            "2      0  STON/O2. 3101282   7.9250   NaN        S       0.304808  \n",
            "3      0            113803  53.1000  C123        S       1.517143  \n",
            "4      0            373450   8.0500   NaN        S       0.230000  \n"
          ]
        }
      ]
    },
    {
      "cell_type": "markdown",
      "source": [
        "2. Subset rows where fare per year is higher than 5, assigning this to high fare age."
      ],
      "metadata": {
        "id": "IdNigN_cu0iP"
      }
    },
    {
      "cell_type": "code",
      "source": [
        "high=df[df['Fare_per_year']>5]\n",
        "print(high)"
      ],
      "metadata": {
        "id": "1UkvQXcou0zj",
        "colab": {
          "base_uri": "https://localhost:8080/"
        },
        "outputId": "3aaccce4-49a5-4b56-a431-342cd49d0bc4"
      },
      "execution_count": 31,
      "outputs": [
        {
          "output_type": "stream",
          "name": "stdout",
          "text": [
            "     PassengerId  Survived  Pclass                                      Name  \\\n",
            "7              8         0       3            Palsson, Master. Gosta Leonard   \n",
            "16            17         0       3                      Rice, Master. Eugene   \n",
            "27            28         0       1            Fortune, Mr. Charles Alexander   \n",
            "43            44         1       2  Laroche, Miss. Simonne Marie Anne Andree   \n",
            "50            51         0       3                Panula, Master. Juha Niilo   \n",
            "..           ...       ...     ...                                       ...   \n",
            "813          814         0       3        Andersson, Miss. Ebba Iris Alfrida   \n",
            "824          825         0       3              Panula, Master. Urho Abraham   \n",
            "827          828         1       2                     Mallet, Master. Andre   \n",
            "831          832         1       2           Richards, Master. George Sibley   \n",
            "850          851         0       3   Andersson, Master. Sigvard Harald Elias   \n",
            "\n",
            "        Sex    Age  SibSp  Parch           Ticket      Fare        Cabin  \\\n",
            "7      male   2.00      3      1           349909   21.0750          NaN   \n",
            "16     male   2.00      4      1           382652   29.1250          NaN   \n",
            "27     male  19.00      3      2            19950  263.0000  C23 C25 C27   \n",
            "43   female   3.00      1      2    SC/Paris 2123   41.5792          NaN   \n",
            "50     male   7.00      4      1          3101295   39.6875          NaN   \n",
            "..      ...    ...    ...    ...              ...       ...          ...   \n",
            "813  female   6.00      4      2           347082   31.2750          NaN   \n",
            "824    male   2.00      4      1          3101295   39.6875          NaN   \n",
            "827    male   1.00      0      2  S.C./PARIS 2079   37.0042          NaN   \n",
            "831    male   0.83      1      1            29106   18.7500          NaN   \n",
            "850    male   4.00      4      2           347082   31.2750          NaN   \n",
            "\n",
            "    Embarked  Fare_per_year  \n",
            "7          S      10.537500  \n",
            "16         Q      14.562500  \n",
            "27         S      13.842105  \n",
            "43         C      13.859733  \n",
            "50         S       5.669643  \n",
            "..       ...            ...  \n",
            "813        S       5.212500  \n",
            "824        S      19.843750  \n",
            "827        C      37.004200  \n",
            "831        S      22.590361  \n",
            "850        S       7.818750  \n",
            "\n",
            "[68 rows x 13 columns]\n"
          ]
        }
      ]
    },
    {
      "cell_type": "markdown",
      "source": [
        "3. Sort high fare age by descending fare per year, assigning this to high fare age srt."
      ],
      "metadata": {
        "id": "UJm93r3Wu5qG"
      }
    },
    {
      "cell_type": "code",
      "source": [
        "high_fare_age_srt=df.sort_values(by='Fare_per_year',ascending=False)\n",
        "print(high_fare_age_srt.head())"
      ],
      "metadata": {
        "id": "YsQ9RCFhu5xW",
        "colab": {
          "base_uri": "https://localhost:8080/"
        },
        "outputId": "850a2dc5-d11c-421f-8fa9-ec717049992d"
      },
      "execution_count": 32,
      "outputs": [
        {
          "output_type": "stream",
          "name": "stdout",
          "text": [
            "     PassengerId  Survived  Pclass                             Name     Sex  \\\n",
            "305          306         1       1   Allison, Master. Hudson Trevor    male   \n",
            "297          298         0       1     Allison, Miss. Helen Loraine  female   \n",
            "386          387         0       3  Goodwin, Master. Sidney Leonard    male   \n",
            "164          165         0       3     Panula, Master. Eino Viljami    male   \n",
            "183          184         1       2        Becker, Master. Richard F    male   \n",
            "\n",
            "      Age  SibSp  Parch   Ticket      Fare    Cabin Embarked  Fare_per_year  \n",
            "305  0.92      1      2   113781  151.5500  C22 C26        S     164.728261  \n",
            "297  2.00      1      2   113781  151.5500  C22 C26        S      75.775000  \n",
            "386  1.00      5      2  CA 2144   46.9000      NaN        S      46.900000  \n",
            "164  1.00      4      1  3101295   39.6875      NaN        S      39.687500  \n",
            "183  1.00      2      1   230136   39.0000       F4        S      39.000000  \n"
          ]
        }
      ]
    },
    {
      "cell_type": "markdown",
      "source": [
        "4. Select only the Name and fare per year columns of high fare age srt and save the result as result."
      ],
      "metadata": {
        "id": "qqDIjpocu8rH"
      }
    },
    {
      "cell_type": "code",
      "source": [
        "result=high_fare_age_srt[['Fare_per_year','Name']]\n",
        "print(result)"
      ],
      "metadata": {
        "id": "vOxQVio4u8wh",
        "colab": {
          "base_uri": "https://localhost:8080/"
        },
        "outputId": "c04fe3b2-c1f5-4143-c03c-09c89767152f"
      },
      "execution_count": 33,
      "outputs": [
        {
          "output_type": "stream",
          "name": "stdout",
          "text": [
            "     Fare_per_year                                      Name\n",
            "305     164.728261            Allison, Master. Hudson Trevor\n",
            "297      75.775000              Allison, Miss. Helen Loraine\n",
            "386      46.900000           Goodwin, Master. Sidney Leonard\n",
            "164      39.687500              Panula, Master. Eino Viljami\n",
            "183      39.000000                 Becker, Master. Richard F\n",
            "..             ...                                       ...\n",
            "859            NaN                          Razi, Mr. Raihed\n",
            "863            NaN         Sage, Miss. Dorothy Edith \"Dolly\"\n",
            "868            NaN               van Melkebeke, Mr. Philemon\n",
            "878            NaN                        Laleff, Mr. Kristo\n",
            "888            NaN  Johnston, Miss. Catherine Helen \"Carrie\"\n",
            "\n",
            "[891 rows x 2 columns]\n"
          ]
        }
      ]
    },
    {
      "cell_type": "markdown",
      "source": [
        "1. Calculate the total Fare paid across all passengers in the Titanic dataset."
      ],
      "metadata": {
        "id": "TzVP7wy2vAeV"
      }
    },
    {
      "cell_type": "code",
      "source": [
        "total=df['Fare'].sum()\n",
        "print(\"Total Fare:\",total)"
      ],
      "metadata": {
        "id": "ALjXpqGtvAk4",
        "colab": {
          "base_uri": "https://localhost:8080/"
        },
        "outputId": "4b810567-d55d-44fb-cb8d-c2a899f5755b"
      },
      "execution_count": 34,
      "outputs": [
        {
          "output_type": "stream",
          "name": "stdout",
          "text": [
            "Total Fare: 28693.9493\n"
          ]
        }
      ]
    },
    {
      "cell_type": "markdown",
      "source": [
        "2. Subset for passengers in first class (Pclass is 1) and calculate their total fare."
      ],
      "metadata": {
        "id": "G2HSZqFOvDnf"
      }
    },
    {
      "cell_type": "code",
      "source": [
        "firstClass=df[df['Pclass']==1]['Fare']\n",
        "totalf=firstClass.sum()\n",
        "print(totalf)"
      ],
      "metadata": {
        "id": "IHe-Zz3gvDuI",
        "colab": {
          "base_uri": "https://localhost:8080/"
        },
        "outputId": "e235d2f7-3aeb-4b8c-b0e3-554f6ecea963"
      },
      "execution_count": 35,
      "outputs": [
        {
          "output_type": "stream",
          "name": "stdout",
          "text": [
            "18177.4125\n"
          ]
        }
      ]
    },
    {
      "cell_type": "markdown",
      "source": [
        "3. Do the same for second class (Pclass is 2) and third class (Pclass is 3)."
      ],
      "metadata": {
        "id": "ysWK-sRUvFvM"
      }
    },
    {
      "cell_type": "code",
      "source": [
        "secondClass=df[df['Pclass']==2]['Fare']\n",
        "totalS=secondClass.sum()\n",
        "print(\"Total of second class:\",totalS)\n",
        "thirdClass=df[df['Pclass']==3]['Fare']\n",
        "totalT=thirdClass.sum()\n",
        "print(\"Total of third class:\",totalT)"
      ],
      "metadata": {
        "id": "YHOpQkXMvF0N",
        "colab": {
          "base_uri": "https://localhost:8080/"
        },
        "outputId": "f8ab814e-5e93-45b2-dcdd-3c7d30dbb50f"
      },
      "execution_count": 36,
      "outputs": [
        {
          "output_type": "stream",
          "name": "stdout",
          "text": [
            "Total of second class: 3801.8417\n",
            "Total of third class: 6714.6951\n"
          ]
        }
      ]
    },
    {
      "cell_type": "markdown",
      "source": [
        "4. Combine the fare totals from first, second, and third classes into a list."
      ],
      "metadata": {
        "id": "r5LGkUR-vJ4o"
      }
    },
    {
      "cell_type": "code",
      "source": [
        "lst=[total,totalS,totalT]\n",
        "print(lst)"
      ],
      "metadata": {
        "id": "AgDM4Q8XvJ-L",
        "colab": {
          "base_uri": "https://localhost:8080/"
        },
        "outputId": "034361bb-8203-4406-a2b7-c8642194ddfa"
      },
      "execution_count": 37,
      "outputs": [
        {
          "output_type": "stream",
          "name": "stdout",
          "text": [
            "[28693.9493, 3801.8417, 6714.6951]\n"
          ]
        }
      ]
    },
    {
      "cell_type": "markdown",
      "source": [
        "5. Divide the totals for each class by the overall total fare to get the proportion of fare revenue by class."
      ],
      "metadata": {
        "id": "FogGPos3vN9m"
      }
    },
    {
      "cell_type": "code",
      "source": [
        "proptionfirst=totalf/total\n",
        "proptionsecond=totalS/total\n",
        "proptionthird=totalT/total\n",
        "print(\"First:\",proptionfirst)\n",
        "print(\"Second:\",proptionsecond)\n",
        "print(\"Third:\",proptionthird)"
      ],
      "metadata": {
        "id": "9TVJ5AoPvODM",
        "colab": {
          "base_uri": "https://localhost:8080/"
        },
        "outputId": "800bbbbb-13c4-4cba-a7a6-407b8f352217"
      },
      "execution_count": 38,
      "outputs": [
        {
          "output_type": "stream",
          "name": "stdout",
          "text": [
            "First: 0.6334928771899656\n",
            "Second: 0.1324962855496507\n",
            "Third: 0.23401083726038366\n"
          ]
        }
      ]
    },
    {
      "cell_type": "markdown",
      "source": [
        "1. Create a new column, age group, that categorizes passengers into \"child\" (age < 18), \"adult\" (age\n",
        "18{64), and \"senior\" (age 65 and above)}."
      ],
      "metadata": {
        "id": "AfVLPl6rvOJJ"
      }
    },
    {
      "cell_type": "code",
      "source": [
        "df['ageGroup']=df['Age'].apply(lambda Age:'child' if Age<18 else 'adult' if 18<= Age<=65 else 'senior' if Age>65 else 'invalid')\n",
        "print(df.head())"
      ],
      "metadata": {
        "id": "DpSKUnUHvONo",
        "colab": {
          "base_uri": "https://localhost:8080/"
        },
        "outputId": "1e79c7bb-0b16-4f8a-a758-a3dfac8b9b75"
      },
      "execution_count": 39,
      "outputs": [
        {
          "output_type": "stream",
          "name": "stdout",
          "text": [
            "   PassengerId  Survived  Pclass  \\\n",
            "0            1         0       3   \n",
            "1            2         1       1   \n",
            "2            3         1       3   \n",
            "3            4         1       1   \n",
            "4            5         0       3   \n",
            "\n",
            "                                                Name     Sex   Age  SibSp  \\\n",
            "0                            Braund, Mr. Owen Harris    male  22.0      1   \n",
            "1  Cumings, Mrs. John Bradley (Florence Briggs Th...  female  38.0      1   \n",
            "2                             Heikkinen, Miss. Laina  female  26.0      0   \n",
            "3       Futrelle, Mrs. Jacques Heath (Lily May Peel)  female  35.0      1   \n",
            "4                           Allen, Mr. William Henry    male  35.0      0   \n",
            "\n",
            "   Parch            Ticket     Fare Cabin Embarked  Fare_per_year ageGroup  \n",
            "0      0         A/5 21171   7.2500   NaN        S       0.329545    adult  \n",
            "1      0          PC 17599  71.2833   C85        C       1.875876    adult  \n",
            "2      0  STON/O2. 3101282   7.9250   NaN        S       0.304808    adult  \n",
            "3      0            113803  53.1000  C123        S       1.517143    adult  \n",
            "4      0            373450   8.0500   NaN        S       0.230000    adult  \n"
          ]
        }
      ]
    },
    {
      "cell_type": "markdown",
      "source": [
        "2. Calculate the total number of passengers on the Titanic."
      ],
      "metadata": {
        "id": "bwco8QXXvWD3"
      }
    },
    {
      "cell_type": "code",
      "source": [
        "total_passenger=len(df)\n",
        "print(total_passenger)"
      ],
      "metadata": {
        "id": "Ccxa7biuvWKz",
        "colab": {
          "base_uri": "https://localhost:8080/"
        },
        "outputId": "647725c0-b60e-426a-e17a-34865b496c1c"
      },
      "execution_count": 40,
      "outputs": [
        {
          "output_type": "stream",
          "name": "stdout",
          "text": [
            "891\n"
          ]
        }
      ]
    },
    {
      "cell_type": "markdown",
      "source": [
        "3. Count the number of passengers in each age group.\n"
      ],
      "metadata": {
        "id": "O6oc0gbovaUX"
      }
    },
    {
      "cell_type": "code",
      "source": [
        "numberChild=len(df[df['ageGroup']=='child'])\n",
        "numberAdult=len(df[df['ageGroup']=='adult'])\n",
        "numberSenior=len(df[df['ageGroup']=='senior'])\n",
        "print(\"Number of children:\",numberChild)\n",
        "print(\"Number of adult:\",numberAdult)\n",
        "print(\"Number of senior:\",numberSenior)"
      ],
      "metadata": {
        "id": "95K5B2cWvaaE",
        "colab": {
          "base_uri": "https://localhost:8080/"
        },
        "outputId": "cb8202c4-e2a9-435b-8d70-5148e1a39c98"
      },
      "execution_count": 41,
      "outputs": [
        {
          "output_type": "stream",
          "name": "stdout",
          "text": [
            "Number of children: 113\n",
            "Number of adult: 593\n",
            "Number of senior: 8\n"
          ]
        }
      ]
    },
    {
      "cell_type": "markdown",
      "source": [
        "4. Divide the count of each age group by the total number of passengers to get the proportion of passengers\n",
        "in each age group."
      ],
      "metadata": {
        "id": "vdH-Bi9Cvfwy"
      }
    },
    {
      "cell_type": "code",
      "source": [
        "countChildprop= numberChild/total_passenger\n",
        "countAdultprop=numberAdult/total_passenger\n",
        "countSeniorprop=numberSenior/total_passenger\n",
        "print(\"Proportion of children:\",countChildprop)\n",
        "print(\"Proportion of adult:\",countAdultprop)\n",
        "print(\"Proportion of senior:\",countSeniorprop)"
      ],
      "metadata": {
        "id": "pLrI_GCvvf1-",
        "colab": {
          "base_uri": "https://localhost:8080/"
        },
        "outputId": "102f4bfc-eddb-49ec-9fbf-cb1d464995dc"
      },
      "execution_count": 42,
      "outputs": [
        {
          "output_type": "stream",
          "name": "stdout",
          "text": [
            "Proportion of children: 0.12682379349046016\n",
            "Proportion of adult: 0.6655443322109988\n",
            "Proportion of senior: 0.008978675645342313\n"
          ]
        }
      ]
    },
    {
      "cell_type": "markdown",
      "source": [
        "5. Display the proportion as a percentage."
      ],
      "metadata": {
        "id": "edf5vncfvkY_"
      }
    },
    {
      "cell_type": "code",
      "source": [
        "print(\"Proportion of children:\",countChildprop,\"%\")\n",
        "print(\"Proportion of adult:\",countAdultprop,\"%\")\n",
        "print(\"Proportion of senior:\",countSeniorprop,\"%\")"
      ],
      "metadata": {
        "colab": {
          "base_uri": "https://localhost:8080/"
        },
        "id": "SUwA6YmJvkg3",
        "outputId": "1a527701-ca79-40fb-a8fd-63022ada9750"
      },
      "execution_count": 43,
      "outputs": [
        {
          "output_type": "stream",
          "name": "stdout",
          "text": [
            "Proportion of children: 0.12682379349046016 %\n",
            "Proportion of adult: 0.6655443322109988 %\n",
            "Proportion of senior: 0.008978675645342313 %\n"
          ]
        }
      ]
    }
  ]
}