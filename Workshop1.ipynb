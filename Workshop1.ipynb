{
  "cells": [
    {
      "cell_type": "code",
      "execution_count": null,
      "metadata": {
        "colab": {
          "base_uri": "https://localhost:8080/"
        },
        "id": "vVRa19bydp6L",
        "outputId": "2b137180-b841-4a74-8e62-045cc9b11a5c"
      },
      "outputs": [
        {
          "data": {
            "text/plain": [
              "(2, 5)"
            ]
          },
          "execution_count": 10,
          "metadata": {},
          "output_type": "execute_result"
        }
      ],
      "source": [
        "import numpy as np\n",
        "\n",
        "arr = np.array([[1,2,3,4,5],[6,7,8,9,23]])\n",
        "arr.shape\n",
        "\n",
        "\n"
      ]
    },
    {
      "cell_type": "code",
      "execution_count": null,
      "metadata": {
        "colab": {
          "base_uri": "https://localhost:8080/"
        },
        "id": "pk8VQ4p3eQ5D",
        "outputId": "f03a2776-1ca4-48f7-d19c-dea8161946d7"
      },
      "outputs": [
        {
          "output_type": "execute_result",
          "data": {
            "text/plain": [
              "array([[1, 3],\n",
              "       [5, 7]])"
            ]
          },
          "metadata": {},
          "execution_count": 5
        }
      ],
      "source": [
        "import numpy as np\n",
        "ar= np.arange(1,9,2).reshape(2,2)\n",
        "ar"
      ]
    },
    {
      "cell_type": "code",
      "execution_count": null,
      "metadata": {
        "id": "Xbc9HrlOeQ7D",
        "colab": {
          "base_uri": "https://localhost:8080/"
        },
        "outputId": "e0064fec-0be8-40eb-ba72-81ab94d04c7e"
      },
      "outputs": [
        {
          "output_type": "execute_result",
          "data": {
            "text/plain": [
              "array([[0, 1, 2],\n",
              "       [3, 4, 5]])"
            ]
          },
          "metadata": {},
          "execution_count": 4
        }
      ],
      "source": [
        "import numpy as np\n",
        "a = np.arange (0,6).reshape(2,3)\n",
        "a"
      ]
    },
    {
      "cell_type": "code",
      "execution_count": null,
      "metadata": {
        "id": "wik6bkxGeQ9l",
        "colab": {
          "base_uri": "https://localhost:8080/"
        },
        "outputId": "3636d58c-d99d-439c-dcab-1a39da31ced7"
      },
      "outputs": [
        {
          "output_type": "execute_result",
          "data": {
            "text/plain": [
              "array([[ 6,  7,  8],\n",
              "       [ 9, 10, 11]])"
            ]
          },
          "metadata": {},
          "execution_count": 22
        }
      ],
      "source": [
        "b= np.arange(6,12).reshape(2,3)\n",
        "b"
      ]
    },
    {
      "cell_type": "code",
      "source": [
        "c=np.concatenate((a,b),axis=1)\n",
        "c"
      ],
      "metadata": {
        "colab": {
          "base_uri": "https://localhost:8080/"
        },
        "id": "ULVzrnmSlWFK",
        "outputId": "b3d3ab65-c47f-4c52-eaea-03aa11591196"
      },
      "execution_count": null,
      "outputs": [
        {
          "output_type": "execute_result",
          "data": {
            "text/plain": [
              "array([[ 0,  1,  2,  6,  7,  8],\n",
              "       [ 3,  4,  5,  9, 10, 11]])"
            ]
          },
          "metadata": {},
          "execution_count": 24
        }
      ]
    },
    {
      "cell_type": "code",
      "source": [
        "d=np.stack((a,b),axis = 1 )\n",
        "d\n"
      ],
      "metadata": {
        "colab": {
          "base_uri": "https://localhost:8080/"
        },
        "id": "XgIOUgUFl4TA",
        "outputId": "40b67d66-28a6-4156-f6f1-63fb3664bae8"
      },
      "execution_count": null,
      "outputs": [
        {
          "output_type": "execute_result",
          "data": {
            "text/plain": [
              "array([[[ 0,  1,  2],\n",
              "        [ 6,  7,  8]],\n",
              "\n",
              "       [[ 3,  4,  5],\n",
              "        [ 9, 10, 11]]])"
            ]
          },
          "metadata": {},
          "execution_count": 31
        }
      ]
    },
    {
      "cell_type": "code",
      "source": [
        "import numpy as np\n",
        "\n",
        "empty_array = np.array([],[])\n",
        "print(empty_array)"
      ],
      "metadata": {
        "colab": {
          "base_uri": "https://localhost:8080/"
        },
        "id": "s2EuIS8vpc0Q",
        "outputId": "f47e614d-34ad-4e50-8359-e71b1b0dfae8"
      },
      "execution_count": null,
      "outputs": [
        {
          "output_type": "stream",
          "name": "stdout",
          "text": [
            "[]\n"
          ]
        }
      ]
    },
    {
      "cell_type": "code",
      "source": [
        "one_arr= np.ones((4,2))\n",
        "one_arr"
      ],
      "metadata": {
        "colab": {
          "base_uri": "https://localhost:8080/"
        },
        "id": "8agqep9Qpc2z",
        "outputId": "8bf03f0f-df5e-412d-f872-e228c562ff13"
      },
      "execution_count": null,
      "outputs": [
        {
          "output_type": "execute_result",
          "data": {
            "text/plain": [
              "array([[1., 1.],\n",
              "       [1., 1.],\n",
              "       [1., 1.],\n",
              "       [1., 1.]])"
            ]
          },
          "metadata": {},
          "execution_count": 36
        }
      ]
    },
    {
      "cell_type": "code",
      "source": [
        "arr1=np.full((2,3),(6))\n",
        "arr1"
      ],
      "metadata": {
        "colab": {
          "base_uri": "https://localhost:8080/"
        },
        "id": "KWvmQuuepc5J",
        "outputId": "79582969-3bca-432d-d327-2c2f8213589c"
      },
      "execution_count": null,
      "outputs": [
        {
          "output_type": "execute_result",
          "data": {
            "text/plain": [
              "array([[6, 6, 6],\n",
              "       [6, 6, 6]])"
            ]
          },
          "metadata": {},
          "execution_count": 39
        }
      ]
    },
    {
      "cell_type": "code",
      "source": [
        "arr_zeros = np.zeros_like(arr1)\n",
        "arr_zeros"
      ],
      "metadata": {
        "colab": {
          "base_uri": "https://localhost:8080/"
        },
        "id": "VeGbFppxvrdn",
        "outputId": "aa9eb23e-e7b7-48af-d12b-fc7c3860aaf3"
      },
      "execution_count": null,
      "outputs": [
        {
          "output_type": "execute_result",
          "data": {
            "text/plain": [
              "array([[0, 0, 0],\n",
              "       [0, 0, 0]])"
            ]
          },
          "metadata": {},
          "execution_count": 42
        }
      ]
    },
    {
      "cell_type": "code",
      "source": [
        "arr_ones = np.ones_like(arr1)\n",
        "arr_ones"
      ],
      "metadata": {
        "colab": {
          "base_uri": "https://localhost:8080/"
        },
        "id": "uTtFIPx5pc7Z",
        "outputId": "92eef5ae-784d-4de3-c52c-7c91aad79eba"
      },
      "execution_count": null,
      "outputs": [
        {
          "output_type": "execute_result",
          "data": {
            "text/plain": [
              "array([[1, 1, 1],\n",
              "       [1, 1, 1]])"
            ]
          },
          "metadata": {},
          "execution_count": 43
        }
      ]
    },
    {
      "cell_type": "code",
      "source": [
        "#For an existing list new_list = [1,2,3,4] convert to an numpy array.\n",
        "#{Hint: np.array()}\n",
        "\n",
        "new_list = [1,2,3,4]\n",
        "np_array = np.array(new_list)\n",
        "np_array"
      ],
      "metadata": {
        "colab": {
          "base_uri": "https://localhost:8080/"
        },
        "id": "5sPY1ymNwJqm",
        "outputId": "c7e6327d-c735-4425-f17c-85ae45ad2b2b"
      },
      "execution_count": null,
      "outputs": [
        {
          "output_type": "execute_result",
          "data": {
            "text/plain": [
              "array([1, 2, 3, 4])"
            ]
          },
          "metadata": {},
          "execution_count": 44
        }
      ]
    },
    {
      "cell_type": "code",
      "source": [
        "#1. Create an array with values ranging from 10 to 49.\n",
        "#{Hint:np.arrange()}.\n",
        "arr = np.arange(10,50)\n",
        "arr"
      ],
      "metadata": {
        "id": "HWN7N-T-wJs4",
        "colab": {
          "base_uri": "https://localhost:8080/"
        },
        "outputId": "164ba0c9-4bf5-486d-d80f-dbf3017e707a"
      },
      "execution_count": null,
      "outputs": [
        {
          "output_type": "execute_result",
          "data": {
            "text/plain": [
              "array([10, 11, 12, 13, 14, 15, 16, 17, 18, 19, 20, 21, 22, 23, 24, 25, 26,\n",
              "       27, 28, 29, 30, 31, 32, 33, 34, 35, 36, 37, 38, 39, 40, 41, 42, 43,\n",
              "       44, 45, 46, 47, 48, 49])"
            ]
          },
          "metadata": {},
          "execution_count": 6
        }
      ]
    },
    {
      "cell_type": "code",
      "source": [
        "arrr= np.arange (0,8).reshape(2,4)\n",
        "arrr"
      ],
      "metadata": {
        "colab": {
          "base_uri": "https://localhost:8080/"
        },
        "id": "0LDFW2WlwJvS",
        "outputId": "f38912b7-c64c-421e-8f53-bc7bf73adf68"
      },
      "execution_count": null,
      "outputs": [
        {
          "output_type": "execute_result",
          "data": {
            "text/plain": [
              "array([[0, 1, 2, 3],\n",
              "       [4, 5, 6, 7]])"
            ]
          },
          "metadata": {},
          "execution_count": 46
        }
      ]
    },
    {
      "cell_type": "code",
      "source": [
        "#3. Create a 3X3 identity matrix.{Hint:np.eye()}\n",
        "eye=np.eye(3)\n",
        "eye"
      ],
      "metadata": {
        "colab": {
          "base_uri": "https://localhost:8080/"
        },
        "id": "P4DbyCUvwwMV",
        "outputId": "3a09725c-4fc9-4ad7-ec2d-7cbc6b02b78d"
      },
      "execution_count": null,
      "outputs": [
        {
          "output_type": "execute_result",
          "data": {
            "text/plain": [
              "array([[1., 0., 0.],\n",
              "       [0., 1., 0.],\n",
              "       [0., 0., 1.]])"
            ]
          },
          "metadata": {},
          "execution_count": 47
        }
      ]
    },
    {
      "cell_type": "code",
      "source": [
        "# 4. Create a random array of size 30 and find the mean of the array.\n",
        "# {Hint:check for np.random.random() and array.mean() function}\n",
        "random_array = np.random.random(30)\n",
        "mean_value = random_array.mean()\n",
        "mean_value"
      ],
      "metadata": {
        "colab": {
          "base_uri": "https://localhost:8080/"
        },
        "id": "gM70xRWWwwO0",
        "outputId": "5fc1c4a1-7cba-43d6-833a-6edcc61b7efc"
      },
      "execution_count": null,
      "outputs": [
        {
          "output_type": "execute_result",
          "data": {
            "text/plain": [
              "0.4946942662212036"
            ]
          },
          "metadata": {},
          "execution_count": 49
        }
      ]
    },
    {
      "cell_type": "code",
      "source": [
        "#5. Create a 10X10 array with random values and find the minimum and maximum values.\n",
        "arr= np.arange(0,100).reshape(10,10)\n",
        "print(arr)\n",
        "min_value = arr.min()\n",
        "max_value = arr.max()\n",
        "print(min_value)\n",
        "print(max_value)"
      ],
      "metadata": {
        "colab": {
          "base_uri": "https://localhost:8080/"
        },
        "id": "UUPv9fdwwwRJ",
        "outputId": "f75c0f38-d9e2-433e-8d57-2f3b79120d37"
      },
      "execution_count": null,
      "outputs": [
        {
          "output_type": "stream",
          "name": "stdout",
          "text": [
            "[[ 0  1  2  3  4  5  6  7  8  9]\n",
            " [10 11 12 13 14 15 16 17 18 19]\n",
            " [20 21 22 23 24 25 26 27 28 29]\n",
            " [30 31 32 33 34 35 36 37 38 39]\n",
            " [40 41 42 43 44 45 46 47 48 49]\n",
            " [50 51 52 53 54 55 56 57 58 59]\n",
            " [60 61 62 63 64 65 66 67 68 69]\n",
            " [70 71 72 73 74 75 76 77 78 79]\n",
            " [80 81 82 83 84 85 86 87 88 89]\n",
            " [90 91 92 93 94 95 96 97 98 99]]\n",
            "0\n",
            "99\n"
          ]
        }
      ]
    },
    {
      "cell_type": "code",
      "source": [
        "#6. Create a zero array of size 10 and replace 5th element with 1.\n",
        "arr = np.zeros((10))\n",
        "arr\n",
        "arr[4]=1\n",
        "arr\n"
      ],
      "metadata": {
        "colab": {
          "base_uri": "https://localhost:8080/"
        },
        "id": "aerHU2aEwJxr",
        "outputId": "cd85502a-ddb4-4c17-bb43-ccc37d6704d7"
      },
      "execution_count": null,
      "outputs": [
        {
          "output_type": "execute_result",
          "data": {
            "text/plain": [
              "array([0., 0., 0., 0., 1., 0., 0., 0., 0., 0.])"
            ]
          },
          "metadata": {},
          "execution_count": 55
        }
      ]
    },
    {
      "cell_type": "code",
      "source": [
        "#7. Reverse an array arr = [1,2,0,0,4,0].\n",
        "arr = np.array([1,2,0,0,4,0])\n",
        "reversed_arr = arr[::-1]\n",
        "reversed_arr\n"
      ],
      "metadata": {
        "colab": {
          "base_uri": "https://localhost:8080/"
        },
        "id": "IhDybrOjx9pn",
        "outputId": "d4ee697c-b980-4b74-c5ec-a2f819db545d"
      },
      "execution_count": null,
      "outputs": [
        {
          "output_type": "execute_result",
          "data": {
            "text/plain": [
              "array([0, 4, 0, 0, 2, 1])"
            ]
          },
          "metadata": {},
          "execution_count": 56
        }
      ]
    },
    {
      "cell_type": "code",
      "source": [
        "#8. Create a 2d array with 1 on border and 0 inside.\n",
        "a=np.zeros((4,4))\n",
        "arr=np.pad(a,pad_width=1,mode='constant',constant_values=1)\n",
        "arr\n"
      ],
      "metadata": {
        "colab": {
          "base_uri": "https://localhost:8080/"
        },
        "id": "NAsnGiSKyh1G",
        "outputId": "7bd56cd5-22ef-48ea-cf32-e5d2b3a0b3ca"
      },
      "execution_count": null,
      "outputs": [
        {
          "output_type": "execute_result",
          "data": {
            "text/plain": [
              "array([[1., 1., 1., 1., 1., 1.],\n",
              "       [1., 0., 0., 0., 0., 1.],\n",
              "       [1., 0., 0., 0., 0., 1.],\n",
              "       [1., 0., 0., 0., 0., 1.],\n",
              "       [1., 0., 0., 0., 0., 1.],\n",
              "       [1., 1., 1., 1., 1., 1.]])"
            ]
          },
          "metadata": {},
          "execution_count": 65
        }
      ]
    },
    {
      "cell_type": "code",
      "source": [
        " #9. Create a 8X8 matrix and fill it with a checkerboard pattern\n",
        "a=np.zeros((8,8))\n",
        "a[1::2,::2]=1\n",
        "a[::2, 1::2]=1\n",
        "a\n",
        "\n"
      ],
      "metadata": {
        "colab": {
          "base_uri": "https://localhost:8080/"
        },
        "id": "mBA1GDXnyh3R",
        "outputId": "7b4f4a07-4a2b-4eb1-c64c-01ea67010f4f"
      },
      "execution_count": null,
      "outputs": [
        {
          "output_type": "execute_result",
          "data": {
            "text/plain": [
              "array([[0., 1., 0., 1., 0., 1., 0., 1.],\n",
              "       [1., 0., 1., 0., 1., 0., 1., 0.],\n",
              "       [0., 1., 0., 1., 0., 1., 0., 1.],\n",
              "       [1., 0., 1., 0., 1., 0., 1., 0.],\n",
              "       [0., 1., 0., 1., 0., 1., 0., 1.],\n",
              "       [1., 0., 1., 0., 1., 0., 1., 0.],\n",
              "       [0., 1., 0., 1., 0., 1., 0., 1.],\n",
              "       [1., 0., 1., 0., 1., 0., 1., 0.]])"
            ]
          },
          "metadata": {},
          "execution_count": 71
        }
      ]
    },
    {
      "cell_type": "markdown",
      "source": [
        "Problem 3 _Array operations"
      ],
      "metadata": {
        "id": "j-e-kOrTbnZC"
      }
    },
    {
      "cell_type": "code",
      "source": [
        "x = np.array([[1,2],[3,5]])\n",
        "y = np.array([[5,6],[7,8]])\n",
        "v = np.array([9,10])\n",
        "w = np.array([11,12])"
      ],
      "metadata": {
        "id": "vqfSDk7Fx9sM"
      },
      "execution_count": null,
      "outputs": []
    },
    {
      "cell_type": "code",
      "source": [
        "#1\n",
        "# Add two array\n",
        "\n",
        "x = np.array([[1,2],[3,5]]) ,\n",
        "y = np.array([[5,6],[7,8]]) ,\n",
        "add = np.add(x,y)\n",
        "add\n",
        "\n"
      ],
      "metadata": {
        "id": "QuqdGg0sbtL_",
        "colab": {
          "base_uri": "https://localhost:8080/"
        },
        "outputId": "fc45d395-2ea6-4c75-cb11-1288bb915196"
      },
      "execution_count": null,
      "outputs": [
        {
          "output_type": "execute_result",
          "data": {
            "text/plain": [
              "array([[[ 6,  8],\n",
              "        [10, 13]]])"
            ]
          },
          "metadata": {},
          "execution_count": 7
        }
      ]
    },
    {
      "cell_type": "code",
      "source": [
        "# 2\n",
        "# Substract two array\n",
        "v = np.array([9,10]) ,\n",
        "w = np.array([11,12])\n",
        "sub = np.subtract(v,w)\n",
        "sub\n"
      ],
      "metadata": {
        "id": "rmI9_64-btOA",
        "colab": {
          "base_uri": "https://localhost:8080/"
        },
        "outputId": "d315e42e-3f72-43a2-dfeb-c18635b68d0a"
      },
      "execution_count": null,
      "outputs": [
        {
          "output_type": "execute_result",
          "data": {
            "text/plain": [
              "array([[-2, -2]])"
            ]
          },
          "metadata": {},
          "execution_count": 8
        }
      ]
    },
    {
      "cell_type": "code",
      "source": [
        "\n",
        "x = np.array([[1,2],[3,5]])\n",
        "y = np.array([[5,6],[7,8]])\n",
        "v = np.array([9,10])\n",
        "w = np.array([11,12])\n",
        "\n",
        "x_multiplied = x * 2\n",
        "y_multiplied = y * 2\n",
        "v_multiplied = v * 2\n",
        "w_multiplied = w * 2\n",
        "\n",
        "print(\"x multiplied by 2:\\n\", x_multiplied)\n",
        "print(\"y multiplied by 2:\\n\", y_multiplied)\n",
        "print(\"v multiplied by 2:\\n\", v_multiplied)\n",
        "print(\"w multiplied by 2:\\n\", w_multiplied)\n"
      ],
      "metadata": {
        "id": "kxRLC5J3btRd",
        "colab": {
          "base_uri": "https://localhost:8080/"
        },
        "outputId": "8ade4269-caf2-4f6c-b56f-d37e4413cd62"
      },
      "execution_count": null,
      "outputs": [
        {
          "output_type": "stream",
          "name": "stdout",
          "text": [
            "x multiplied by 2:\n",
            " [[ 2  4]\n",
            " [ 6 10]]\n",
            "y multiplied by 2:\n",
            " [[10 12]\n",
            " [14 16]]\n",
            "v multiplied by 2:\n",
            " [18 20]\n",
            "w multiplied by 2:\n",
            " [22 24]\n"
          ]
        }
      ]
    },
    {
      "cell_type": "code",
      "source": [
        "#4\n",
        "# Find the square of each element of the array.\n",
        "\n",
        "import numpy as np\n",
        "\n",
        "x_square = np.square(x),\n",
        "y_square = np.square(y),\n",
        "v_square = np.square(v),\n",
        "w_square = np.square(w),\n",
        "\n",
        "print(\"Square of x \" , x_square),\n",
        "print(\"Square of y \" , y_square),\n",
        "print(\"Square of v \" , v_square),\n",
        "print(\"Square of w \" , w_square)"
      ],
      "metadata": {
        "id": "ED9Sc3xLbzSv",
        "colab": {
          "base_uri": "https://localhost:8080/"
        },
        "outputId": "9f1fc139-4565-4547-882b-dedbabf8ea63"
      },
      "execution_count": null,
      "outputs": [
        {
          "output_type": "stream",
          "name": "stdout",
          "text": [
            "Square of x  (array([[ 1,  4],\n",
            "       [ 9, 25]]),)\n",
            "Square of y  (array([[25, 36],\n",
            "       [49, 64]]),)\n",
            "Square of v  (array([ 81, 100]),)\n",
            "Square of w  (array([121, 144]),)\n"
          ]
        }
      ]
    },
    {
      "cell_type": "code",
      "source": [
        "#5\n",
        "# Find the dot product between: v(and)w ; x(and)v ; x(and)y.\n",
        "dot_v_w = np.dot(v, w),\n",
        "dot_x_v = np.dot(x, v),\n",
        "dot_x_y = np.dot(x,y),\n",
        "\n",
        "print(\"Dot product of v and w:\",dot_v_w),\n",
        "print(\"Dot product of x and v:\", dot_x_v),\n",
        "print(\"Dot product of x and y:\\n\", dot_x_y)"
      ],
      "metadata": {
        "id": "_idV1g0bbzU1",
        "colab": {
          "base_uri": "https://localhost:8080/"
        },
        "outputId": "7f69185d-67c3-42c7-8f30-f71f30acb9d3"
      },
      "execution_count": null,
      "outputs": [
        {
          "output_type": "stream",
          "name": "stdout",
          "text": [
            "Dot product of v and w: (219,)\n",
            "Dot product of x and v: (array([29, 77]),)\n",
            "Dot product of x and y:\n",
            " (array([[19, 22],\n",
            "       [50, 58]]),)\n"
          ]
        }
      ]
    },
    {
      "cell_type": "code",
      "source": [
        "#6\n",
        "#  Concatenate x(and)y along row and Concatenate v(and)w along column.\n",
        "#  {Hint:try np.concatenate() or np.vstack() functions.\n",
        "\n",
        "concatenated_xy = np.concatenate((x, y), axis=0)\n",
        "concatenated_vw = np.vstack((v, w))\n",
        "print(\"Concatenated x and y along rows:\\n\", concatenated_xy)\n",
        "print(\"Concatenated v and w along columns:\\n\", concatenated_vw)\n"
      ],
      "metadata": {
        "id": "6LG-9vf0bzW8",
        "colab": {
          "base_uri": "https://localhost:8080/"
        },
        "outputId": "7d8fef60-fff6-4365-9cf4-1a2edb73a80c"
      },
      "execution_count": null,
      "outputs": [
        {
          "output_type": "stream",
          "name": "stdout",
          "text": [
            "Concatenated x and y along rows:\n",
            " [[1 2]\n",
            " [3 5]\n",
            " [5 6]\n",
            " [7 8]]\n",
            "Concatenated v and w along columns:\n",
            " [[ 9 10]\n",
            " [11 12]]\n"
          ]
        }
      ]
    },
    {
      "cell_type": "markdown",
      "source": [
        "Concatenated_xy = np.concatenate((x, y),) why i am getting error ?\n",
        "\n",
        "The error occurs because the np.concatenate() function requires the axis parameter.Axis is set to 0, which means concatenation along the first axis (rows)"
      ],
      "metadata": {
        "id": "IIirrufib8ug"
      }
    },
    {
      "cell_type": "code",
      "source": [
        "# 1. Prove A * A^-1 = I\n",
        "import numpy as np\n",
        "\n",
        "A = np.array([[1, 2], [3, 4]])\n",
        "A_inv = np.linalg.inv(A)\n",
        "identity_matrix = np.dot(A, A_inv)\n",
        "print(\"A * A^-1 = I:\\n\", identity_matrix)\n",
        "\n",
        "\n",
        "# 2. Prove AB = BA\n",
        "B = np.array([[5, 6], [7, 8]])  # Example matrix\n",
        "AB = np.dot(A, B)  # Compute AB\n",
        "BA = np.dot(B, A)  # Compute BA\n",
        "print(\"AB:\\n\", AB)\n",
        "print(\"BA:\\n\", BA)\n",
        "print(\"AB == BA:\", np.array_equal(AB, BA))\n",
        "\n",
        "\n",
        "# 3. Prove (AB)^T = B^T A^T\n",
        "AB_T = np.transpose(AB)\n",
        "BT_AT = np.dot(np.transpose(B), np.transpose(A))\n",
        "print(\"(AB)^T:\\n\", AB_T)\n",
        "print(\"B^T A^T:\\n\", BT_AT)\n",
        "print(\"(AB)^T == B^T A^T:\", np.array_equal(AB_T, BT_AT))\n",
        "\n"
      ],
      "metadata": {
        "id": "h0pS4YTIbzad",
        "colab": {
          "base_uri": "https://localhost:8080/"
        },
        "outputId": "a25422df-ba8e-449c-d7cd-c6d1dd35b130"
      },
      "execution_count": null,
      "outputs": [
        {
          "output_type": "stream",
          "name": "stdout",
          "text": [
            "A * A^-1 = I:\n",
            " [[1.0000000e+00 0.0000000e+00]\n",
            " [8.8817842e-16 1.0000000e+00]]\n",
            "AB:\n",
            " [[19 22]\n",
            " [43 50]]\n",
            "BA:\n",
            " [[23 34]\n",
            " [31 46]]\n",
            "AB == BA: False\n",
            "(AB)^T:\n",
            " [[19 43]\n",
            " [22 50]]\n",
            "B^T A^T:\n",
            " [[19 43]\n",
            " [22 50]]\n",
            "(AB)^T == B^T A^T: True\n"
          ]
        }
      ]
    },
    {
      "cell_type": "code",
      "source": [
        "import time\n",
        "\n",
        "# Create two lists of size 1,000,000\n",
        "list1 = [i for i in range(1000000)]\n",
        "list2 = [i for i in range(1000000)]\n",
        "\n",
        "# Measure the time taken for element-wise addition\n",
        "start_time = time.time()\n",
        "result_list = [list1[i] + list2[i] for i in range(1000000)]\n",
        "end_time = time.time()\n",
        "\n",
        "print(\"Time taken for element-wise addition using Python lists:\", end_time - start_time, \"seconds\")\n"
      ],
      "metadata": {
        "id": "t0gXnWk8bzuV",
        "colab": {
          "base_uri": "https://localhost:8080/"
        },
        "outputId": "fc294a4a-35ac-473c-f0f1-a9a524b5c38c"
      },
      "execution_count": null,
      "outputs": [
        {
          "output_type": "stream",
          "name": "stdout",
          "text": [
            "Time taken for element-wise addition using Python lists: 0.27681636810302734 seconds\n"
          ]
        }
      ]
    },
    {
      "cell_type": "code",
      "source": [
        "import numpy as np\n",
        "import time\n",
        "\n",
        "array1 = np.arange(1000000)\n",
        "array2 = np.arange(1000000)\n",
        "\n",
        "start_time = time.time()\n",
        "result_array = array1 + array2\n",
        "end_time = time.time()\n",
        "\n",
        "print(\"Time taken for element-wise addition using NumPy arrays:\", end_time - start_time, \"seconds\")\n"
      ],
      "metadata": {
        "id": "JoPECcl-cHIR",
        "colab": {
          "base_uri": "https://localhost:8080/"
        },
        "outputId": "99cba9b9-9199-4249-ab2f-e4cf063b4726"
      },
      "execution_count": null,
      "outputs": [
        {
          "output_type": "stream",
          "name": "stdout",
          "text": [
            "Time taken for element-wise addition using NumPy arrays: 0.004784822463989258 seconds\n"
          ]
        }
      ]
    },
    {
      "cell_type": "code",
      "source": [
        "import time\n",
        "\n",
        "list1 = [i for i in range(1000000)]\n",
        "list2 = [i for i in range(1000000)]\n",
        "\n",
        "start_time = time.time()\n",
        "result_list = [list1[i] * list2[i] for i in range(1000000)]\n",
        "end_time = time.time()\n",
        "\n",
        "print(\"Time taken for element-wise multiplication using Python lists:\", end_time - start_time, \"seconds\")\n"
      ],
      "metadata": {
        "id": "W08hOWZRcHKo",
        "colab": {
          "base_uri": "https://localhost:8080/"
        },
        "outputId": "d67e6f05-c252-42c8-bd17-ae01d0fcb511"
      },
      "execution_count": null,
      "outputs": [
        {
          "output_type": "stream",
          "name": "stdout",
          "text": [
            "Time taken for element-wise multiplication using Python lists: 0.15594100952148438 seconds\n"
          ]
        }
      ]
    },
    {
      "cell_type": "code",
      "source": [
        "import numpy as np\n",
        "import time\n",
        "\n",
        "array1 = np.arange(100000)\n",
        "array2 = np.arange(100000)\n",
        "\n",
        "start_time = time.time()\n",
        "result_array = array1 * array2\n",
        "end_time = time.time()\n",
        "\n",
        "print(\"Time taken for element-wise multiplication using NumPy arrays:\", end_time - start_time, \"seconds\")\n"
      ],
      "metadata": {
        "id": "KB_kHYmOcMKT",
        "colab": {
          "base_uri": "https://localhost:8080/"
        },
        "outputId": "c4c587f1-9c93-4d0d-a58c-31598f208996"
      },
      "execution_count": null,
      "outputs": [
        {
          "output_type": "stream",
          "name": "stdout",
          "text": [
            "Time taken for element-wise multiplication using NumPy arrays: 0.0004138946533203125 seconds\n"
          ]
        }
      ]
    },
    {
      "cell_type": "code",
      "source": [
        "import time\n",
        "\n",
        "list1 = [i for i in range(1000000)]\n",
        "list2 = [i for i in range(1000000)]\n",
        "\n",
        "start_time = time.time()\n",
        "dot_product_list = sum(list1[i] * list2[i] for i in range(1000000))\n",
        "end_time = time.time()\n",
        "\n",
        "print(\"Dot product using Python lists:\", dot_product_list)\n",
        "print(\"Time taken using Python lists:\", end_time - start_time, \"seconds\")\n"
      ],
      "metadata": {
        "id": "_rBpebiBcMNr",
        "colab": {
          "base_uri": "https://localhost:8080/"
        },
        "outputId": "e0cb6abf-7372-43b7-8aba-5a02212404c1"
      },
      "execution_count": null,
      "outputs": [
        {
          "output_type": "stream",
          "name": "stdout",
          "text": [
            "Dot product using Python lists: 333332833333500000\n",
            "Time taken using Python lists: 0.1730642318725586 seconds\n"
          ]
        }
      ]
    },
    {
      "cell_type": "code",
      "source": [
        "import time\n",
        "\n",
        "list1 = [i for i in range(1000000)]\n",
        "list2 = [i for i in range(1000000)]\n",
        "\n",
        "start_time = time.time()\n",
        "dot_product_list = sum(list1[i] * list2[i] for i in range(1000000))\n",
        "end_time = time.time()\n",
        "\n",
        "print(\"Dot product using Python lists:\", dot_product_list)\n",
        "print(\"Time taken using Python lists:\", end_time - start_time, \"seconds\")\n"
      ],
      "metadata": {
        "id": "ZPpg2AV5cHOB",
        "colab": {
          "base_uri": "https://localhost:8080/"
        },
        "outputId": "45b17893-9787-4238-bd3d-73f70e1fd640"
      },
      "execution_count": null,
      "outputs": [
        {
          "output_type": "stream",
          "name": "stdout",
          "text": [
            "Dot product using Python lists: 333332833333500000\n",
            "Time taken using Python lists: 0.31844496726989746 seconds\n"
          ]
        }
      ]
    },
    {
      "cell_type": "code",
      "source": [
        "import time\n",
        "\n",
        "matrix1 = [[i for i in range(1000)] for j in range(1000)]\n",
        "matrix2 = [[i for i in range(1000)] for j in range(1000)]\n",
        "\n",
        "start_time = time.time()\n",
        "result_matrix = [[sum(a * b for a, b in zip(matrix1_row, matrix2_col)) for matrix2_col in zip(*matrix2)] for matrix1_row in matrix1]\n",
        "end_time = time.time()\n",
        "\n",
        "print(\"Time taken for matrix multiplication using Python lists:\", end_time - start_time, \"seconds\")\n"
      ],
      "metadata": {
        "id": "YvY-wUjNcQ0s",
        "colab": {
          "base_uri": "https://localhost:8080/"
        },
        "outputId": "fb883b16-7e39-42bf-cca3-de90c942ab04"
      },
      "execution_count": 25,
      "outputs": [
        {
          "output_type": "stream",
          "name": "stdout",
          "text": [
            "Time taken for matrix multiplication using Python lists: 207.44330549240112 seconds\n"
          ]
        }
      ]
    },
    {
      "cell_type": "code",
      "source": [
        "import numpy as np\n",
        "import time\n",
        "\n",
        "array1 = np.arange(10000).reshape(100, 100)\n",
        "array2 = np.arange(10000).reshape(100, 100)\n",
        "\n",
        "start_time = time.time()\n",
        "result_array = np.dot(array1, array2)\n",
        "end_time = time.time()\n",
        "\n",
        "print(\"Time taken for matrix multiplication using NumPy arrays:\", end_time - start_time, \"seconds\")\n"
      ],
      "metadata": {
        "id": "I-hFIXaLcRfC",
        "colab": {
          "base_uri": "https://localhost:8080/"
        },
        "outputId": "8c064751-40a0-4474-bdcf-27d069700776"
      },
      "execution_count": 26,
      "outputs": [
        {
          "metadata": {
            "tags": null
          },
          "name": "stdout",
          "output_type": "stream",
          "text": [
            "Time taken for matrix multiplication using NumPy arrays: 0.0018246173858642578 seconds\n"
          ]
        }
      ]
    },
    {
      "cell_type": "markdown",
      "source": [],
      "metadata": {
        "id": "Y3qNkhEWxFaC"
      }
    }
  ],
  "metadata": {
    "colab": {
      "provenance": []
    },
    "kernelspec": {
      "display_name": "Python 3",
      "name": "python3"
    },
    "language_info": {
      "name": "python"
    }
  },
  "nbformat": 4,
  "nbformat_minor": 0
}